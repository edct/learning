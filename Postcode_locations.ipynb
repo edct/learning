{
 "cells": [
  {
   "cell_type": "code",
   "execution_count": 11,
   "id": "80321210-e138-4805-99d9-0414d7d43293",
   "metadata": {},
   "outputs": [],
   "source": [
    "import pandas as pd\n",
    "import geopy\n",
    "from geopy.extra.rate_limiter import RateLimiter\n",
    "from geopy.geocoders import Nominatim\n",
    "import regex as re\n",
    "locator = Nominatim(user_agent = 'myGeoencoder')\n",
    "geocode = RateLimiter(locator.geocode, min_delay_seconds = 1)\n",
    "addresses = pd.read_csv('C:/Users/barre/Downloads/uk_total.csv')"
   ]
  },
  {
   "cell_type": "code",
   "execution_count": 13,
   "id": "3102f654-4c7f-4e4a-b713-8a5f1eb97130",
   "metadata": {},
   "outputs": [],
   "source": [
    "addresses['location'] = addresses['address'].apply(geocode)\n",
    "addresses['point'] = addresses['location'].apply(lambda loc: tuple(loc.point) if loc else None)"
   ]
  },
  {
   "cell_type": "code",
   "execution_count": 15,
   "id": "01295650-beb6-4e83-aed8-550d468cfb16",
   "metadata": {},
   "outputs": [],
   "source": [
    "addresses_all = pd.read_csv('C:/Users/barre/Downloads/nodes-addresses.csv')"
   ]
  },
  {
   "cell_type": "code",
   "execution_count": 17,
   "id": "c7a2ac48-e523-483f-944a-8f0d1dc018ca",
   "metadata": {},
   "outputs": [],
   "source": [
    "addresses_all['country_codes'] = addresses_all['country_codes'].astype(str)\n",
    "addresses_uk = addresses_all[addresses_all['country_codes'].str.contains('GBR')]"
   ]
  },
  {
   "cell_type": "code",
   "execution_count": 18,
   "id": "57ca11d4-0525-4ede-84d0-e7a8dc3221c4",
   "metadata": {},
   "outputs": [
    {
     "name": "stderr",
     "output_type": "stream",
     "text": [
      "<ipython-input-18-db3b2428e498>:1: SettingWithCopyWarning: \n",
      "A value is trying to be set on a copy of a slice from a DataFrame.\n",
      "Try using .loc[row_indexer,col_indexer] = value instead\n",
      "\n",
      "See the caveats in the documentation: https://pandas.pydata.org/pandas-docs/stable/user_guide/indexing.html#returning-a-view-versus-a-copy\n",
      "  addresses_uk['location'] = addresses_uk['address'].apply(geocode)\n",
      "<ipython-input-18-db3b2428e498>:2: SettingWithCopyWarning: \n",
      "A value is trying to be set on a copy of a slice from a DataFrame.\n",
      "Try using .loc[row_indexer,col_indexer] = value instead\n",
      "\n",
      "See the caveats in the documentation: https://pandas.pydata.org/pandas-docs/stable/user_guide/indexing.html#returning-a-view-versus-a-copy\n",
      "  addresses_uk['point'] = addresses_uk['location'].apply(lambda loc: tuple(loc.point) if loc else None)\n"
     ]
    }
   ],
   "source": [
    "addresses_uk['location'] = addresses_uk['address'].apply(geocode)\n",
    "addresses_uk['point'] = addresses_uk['location'].apply(lambda loc: tuple(loc.point) if loc else None)"
   ]
  },
  {
   "cell_type": "code",
   "execution_count": 19,
   "id": "f913b8cc-7573-404a-a51c-67750a167990",
   "metadata": {},
   "outputs": [
    {
     "name": "stdout",
     "output_type": "stream",
     "text": [
      "(977, 11)\n",
      "(4216, 17)\n"
     ]
    }
   ],
   "source": [
    "print(addresses_uk.shape)\n",
    "print(addresses.shape)"
   ]
  },
  {
   "cell_type": "code",
   "execution_count": 20,
   "id": "ea1a43f6-9d49-450f-9160-eea20fbfcb6a",
   "metadata": {},
   "outputs": [],
   "source": [
    "addresses = addresses[addresses.node_id.isin(addresses_uk.node_id)]"
   ]
  },
  {
   "cell_type": "code",
   "execution_count": 21,
   "id": "63ef9584-a05b-43ce-afc2-5530dfe580fd",
   "metadata": {},
   "outputs": [
    {
     "name": "stdout",
     "output_type": "stream",
     "text": [
      "333\n",
      "329\n"
     ]
    }
   ],
   "source": [
    "print(sum(addresses_uk['point'].value_counts()))\n",
    "print(sum(addresses['point'].value_counts()))\n",
    "addresses['point_alt'] = addresses['point']"
   ]
  },
  {
   "cell_type": "code",
   "execution_count": 22,
   "id": "a96ff00d-ad75-45ef-b3da-263a61c5aa68",
   "metadata": {},
   "outputs": [
    {
     "name": "stderr",
     "output_type": "stream",
     "text": [
      "<ipython-input-22-11473b6ad77b>:2: SettingWithCopyWarning: \n",
      "A value is trying to be set on a copy of a slice from a DataFrame.\n",
      "Try using .loc[row_indexer,col_indexer] = value instead\n",
      "\n",
      "See the caveats in the documentation: https://pandas.pydata.org/pandas-docs/stable/user_guide/indexing.html#returning-a-view-versus-a-copy\n",
      "  addresses_uk[\"PostCode\"] = addresses_uk[\"address\"].str.extract(r\"(\\b(?:[A-Za-z][A-HJ-Ya-hj-y]?[0-9][0-9A-Za-z]? ?[0-9][A-Za-z]{2}|[Gg][Ii][Rr] ?0[Aa]{2})\\b)\")\n"
     ]
    }
   ],
   "source": [
    "postcodes = pd.read_csv('C:/Users/barre/Downloads/postcodes/postcodes.csv')\n",
    "addresses_uk[\"PostCode\"] = addresses_uk[\"address\"].str.extract(r\"(\\b(?:[A-Za-z][A-HJ-Ya-hj-y]?[0-9][0-9A-Za-z]? ?[0-9][A-Za-z]{2}|[Gg][Ii][Rr] ?0[Aa]{2})\\b)\")"
   ]
  },
  {
   "cell_type": "code",
   "execution_count": 23,
   "id": "036ef9b9-ef9c-41db-9806-5b2ce9ac7747",
   "metadata": {},
   "outputs": [],
   "source": [
    "addresses_uk_final = pd.merge(addresses_uk, addresses['point_alt'], how = 'left', left_index = True, right_index = True)"
   ]
  },
  {
   "cell_type": "code",
   "execution_count": 24,
   "id": "cfa21625-b9ce-4acd-82cb-7b593258f96d",
   "metadata": {},
   "outputs": [],
   "source": [
    "addresses_uk_final = pd.merge(addresses_uk_final, postcodes[['Postcode', 'Latitude', 'Longitude']], how = 'left', left_on = 'PostCode', right_on = 'Postcode')"
   ]
  },
  {
   "cell_type": "code",
   "execution_count": 55,
   "id": "c596423f-62b3-4498-9d6b-6889dd2af51e",
   "metadata": {},
   "outputs": [],
   "source": [
    "addresses_uk_final['postcode_latlong'] = list(zip(addresses_uk_final['Latitude'], addresses_uk_final['Longitude']))\n",
    "addresses_uk_final['postcode_latlong'] = addresses_uk_final['postcode_latlong'].map(lambda x: None if str(x) == '(nan, nan)' else x)\n",
    "addresses_uk_final[['postcode_latlong', 'point', 'point_alt']] = addresses_uk_final[['postcode_latlong', 'point', 'point_alt']].fillna('No Address Found')\n",
    "addresses_uk_final['latlong_final'] = addresses_uk_final[['postcode_latlong', 'point', 'point_alt']].apply(lambda x: x['postcode_latlong'] if x['postcode_latlong'] != 'No Address Found' else x['point'] if x['point'] != 'No Address Found' else x['point_alt'], axis = 1)\n"
   ]
  },
  {
   "cell_type": "code",
   "execution_count": 57,
   "id": "b1c0051f-7835-4ac4-8ffa-a7f65bef494c",
   "metadata": {},
   "outputs": [],
   "source": [
    "addresses_uk_final.to_csv('C:/Users/barre/Documents/addresses_uk_fixed.csv')"
   ]
  },
  {
   "cell_type": "code",
   "execution_count": 29,
   "id": "7fb93f67-8bdc-43ed-9ed1-9d72e336c2ff",
   "metadata": {},
   "outputs": [
    {
     "data": {
      "text/plain": [
       "568"
      ]
     },
     "execution_count": 29,
     "metadata": {},
     "output_type": "execute_result"
    }
   ],
   "source": [
    "addresses_uk_final['postcode_latlong'].value_counts().sum()"
   ]
  },
  {
   "cell_type": "code",
   "execution_count": 32,
   "id": "a280b366-d123-4848-aac3-f1385e204c68",
   "metadata": {},
   "outputs": [
    {
     "data": {
      "text/plain": [
       "628"
      ]
     },
     "execution_count": 32,
     "metadata": {},
     "output_type": "execute_result"
    }
   ],
   "source": [
    "addresses_uk['PostCode'].value_counts().sum()"
   ]
  },
  {
   "cell_type": "code",
   "execution_count": 45,
   "id": "6f44323f-0fb2-4a71-8ae1-64a25e6c2b8a",
   "metadata": {},
   "outputs": [
    {
     "data": {
      "text/plain": [
       "360      FLAT 1184, 6 SLINGTON HOUSE, RANKINE ROAD, BAS...\n",
       "659            27 GLOUCESTER PLACE, LONDON, UNITED KINGDOM\n",
       "736      18 NEW ROAD, HYTHE, SOUTHAMPTON, S045 6BP HAMP...\n",
       "738      18 NEW ROAD, HYTHE, SOUTHAMPTON S045 6BP HAMPS...\n",
       "811      53A SAILMAKERS COURT, SW6 2 UX, LONDON, UNITED...\n",
       "                               ...                        \n",
       "15561                                  17 TOFTENHAM STREET\n",
       "15563                   WILLARDS FARM, THE COMMON DUNSFOLD\n",
       "15564                            13 HAMPSTEAD HILL GARDENS\n",
       "15565                                 25 ST  PETERS SQUARE\n",
       "15818    19, PENTHOUSE NORTH, 12A-I2J ENNISMORE GARDENS...\n",
       "Name: address, Length: 349, dtype: object"
      ]
     },
     "execution_count": 45,
     "metadata": {},
     "output_type": "execute_result"
    }
   ],
   "source": [
    "addresses_uk[addresses_uk['PostCode'].isna()]['address']"
   ]
  },
  {
   "cell_type": "code",
   "execution_count": 46,
   "id": "406c87f0-3d40-4528-ba14-0f705a70f49f",
   "metadata": {},
   "outputs": [
    {
     "name": "stdout",
     "output_type": "stream",
     "text": [
      "FLAT 1184, 6 SLINGTON HOUSE, RANKINE ROAD, BASINGSTOKE RG24 8 PH, HAMPSHIRE, UNITED KINGDOM\n",
      "27 GLOUCESTER PLACE, LONDON, UNITED KINGDOM\n",
      "18 NEW ROAD, HYTHE, SOUTHAMPTON, S045 6BP HAMPSHIRE, UNITED KINGDOM\n",
      "18 NEW ROAD, HYTHE, SOUTHAMPTON S045 6BP HAMPSHIRE\n",
      "53A SAILMAKERS COURT, SW6 2 UX, LONDON, UNITED KINGDOM\n",
      "SERENDIPITY, MAINSTREET, MAIDS MORETON MK18 71QS\n",
      "17 AGATE ROAD, W6 OAJ LONDON, UNITED KINGDOM\n",
      "52 QUEENSMERE ROAD, LONDON, WIMBLEDON, UNITED KINGDOM\n",
      "3 EAST MOOR DRIVER, WOLVERTON MILL, MILTON KEYNES, BUCKINGHAMSHIRE, UNITED KINGDOM\n",
      "52 QUEENSMERE ROAD, LONDON, WIMBLEDON, UNITED KINGDON\n",
      "15 LANGWOOD GARDENS, WATFORD, HERTFORDSHIRE, UNITED KINGDOM\n",
      "15 LANGWOOD GARDENS, WATFORD, HERTFORSHINE, UNITED KINGDOM\n",
      "FLAT 4, GORDON HOUSE, 37 WELBECK STREET, LONDON W1G 8 DW, UNITED KINGDOM\n",
      "37 WELBECK STRET, LONDON 7063\n",
      "FLAT 1, 57 CADOGAN GARDENS, LONDON SW3 2 TH, LONDON, UNITED KINGDOM\n",
      "115B DRYSDALE STREET, LONDON, UNITED KINGDOM\n",
      "FLAT C, 46-48, GERTRUDES STREET, LONDON, UNITED KINGDOM\n",
      "URB. SORRIBES NÚM. 10, AD400 LA MASSANA, PRINCIPIO DE ANDORRA, Y PASAPORTE BRITÁNICO NÚM. 707756992. REINO UNIDO DE GRAN BRETAÑA E IRLANDA DEL NORTE\n",
      "EMBASSY GARDEN, PRINCIPAL 10100, PH COURTYARD 2 PBA-1D LONDON REINO UNIDO DE GRAN BRETAÑA E IRLANDA DEL NORTE\n",
      "101, MARSHAM COURT, MARSHAM STREET LONDON REINO UNIDO DE GRAN BRETAÑA E IRLANDA DEL NORTE\n",
      "FLAT 2, HOLLAND ROAD, W14 8 HP LONDON, UK REINO UNIDO DE GRAN BRETAÑA E IRLANDA DEL NORTE\n",
      "WARREN FARM, UPPHALL, BRAUGHINE-HERTS SG11 2 PR, UNITED KINGDOM REINO UNIDO DE GRAN BRETAÑA E IRLANDA DEL NORTE\n",
      "16 MANSFIELD STREET, UNITED KINGDOM\n",
      "76 JERMYN STR., FLAT 14, LONDON UNITED KINGDOM\n",
      "FLAT 8 ARGYLL MANSIONS, 303-323 KINGS ROAD LONDON UNITED KINGDOM\n",
      "30 SPRINGFIELD ROAD, HARROW, MIDDLESEX LATVIA\n",
      "407 MILLINERS HOUSE, EASTFIELDS AVENUE LONDON UNITED KINGDOM\n",
      "15 KENT TERRACE, CAMDEN TOWN LONDON UNITED KINGDOM\n",
      "4 CRESSWELL GARDENS LONDON UNITED KINGDOM\n",
      "80 LEDBOROUG LANE, BEACONSFIELD, BUCKINGHAM UNITED KINGDOM\n",
      "67 CASTELNAU LONDON UNITED KINGDOM\n",
      "36 ROLAND GARDENS SW 7 LONDON ENGLAND\n",
      "EMBASSY GARDEN, PRINCIPAL 10100, PH COURTYARD 2 PBA-1D LONDON UNITED KINGDOM\n",
      "2 PARK HOUSE, 1A KENDAL ST LONDON UNITED KINGDOM\n",
      "4 WOODS HOUSE, STEWART ROAD UNITED KINGDOM\n",
      "101 MARSHAM COURT, MARSHAM STREET LONDON ENGLAND\n",
      "101, MARSHAM COURT, MARSHAM STREET LONDON UNITED KINGDOM\n",
      "26 HOLNE CHASE UNITED KINGDOM\n",
      "CHURCH HOUSE, WHARF LANE LECHLADE UNITED KINGDOM\n",
      "76-80 GREAT EASTERN STREET LONDON UNITED KINGDOM\n",
      "16 FINSTOCK ROAD LONDON UNITED KINGDOM\n",
      "29 EDWARDES SQUARE, KENSINGTON LONDON UNITED KINGDOM\n",
      "ELDER COTTAGE, BOX STROUD GLOUCESTER-SHIRE UNITED KINGDOM\n",
      "21-22 ENNISMORE GARDENS LONDON UNITED KINGDOM\n",
      "APARTMENT WELBECK ABBEY, WELBECK, WORKSOP, NOTTS LONDON UNITED KINGDOM\n",
      "WITHY COPSE HOUSE, NORTH LANE WEST TYTHERLEY, SALISBURY UNITED KINGDOM\n",
      "24 ST JAMES PLACE LONDON UNITED KINGDOM\n",
      "26 BEECH ROAD,REIGATE SURREY UNITED KINGDOM\n",
      "HINTON HOUSE, LONG BOTTOM LANE BEACONSFIELD UNITED KINGDOM\n",
      "49 BROMPTON SQUARE LONDON UNITED KINGDOM\n",
      "40 YORK TERRACE WEST LONDON UNITED KINGDOM\n",
      "12B PAVELEY DRIVE LONDON UNITED KINGDOM\n",
      "95 EATON PLACE LONDON UNITED KINGDOM\n",
      "BICYCLE ARMS ROAD, ROTHERFIELD CROWBOROUGH UNITED KINGDOM\n",
      "3 MANOR HALL, 144 MANOR ROAD, CHIGWELL LONDON UNITED KINGDOM\n",
      "THE NOOK, SHENINGTON, BANBURY,    OXON UNITED KINGDOM\n",
      "THE HALL, SHOTESHAM PARK,SHOTESHAM ST MARY NORWICH UNITED KINGDOM\n",
      "18 TONSLEY STREET LONDON UNITED KINGDOM\n",
      "5A WADHAM ROAD UNITED KINGDOM\n",
      "TANYARD MANOR, SHARPTHORNE SUSSEX UNITED KINGDOM\n",
      "17 GROSVENOR SQUARE LONDON UNITED KINGDOM\n",
      "19 CAMPBELL ROAD LONDON UNITED KINGDOM\n",
      "155 BLACKTHORN ROAD, ILFORD LONDON UNITED KINGDOM\n",
      "WESTWOOD HEIGHTS, WESTWOOD ROAD, WINDLESHAM, SURREY ENGLAND\n",
      "24 GRANGE ROAD LONDON UNITED KINGDOM\n",
      "6 DYER'S BUILDING LONDON INGLATERRA\n",
      "BERKELEY SUQARE HOUSE, 2ND FLOOR LONDON REINO UNIDO DE GRAN BRETAÑA E IRLANDA DEL NORTE\n",
      "2 THE PADDOCKS, SWAY, LYMINGTON UNITED KINGDOM\n",
      "38TH ST JAMES CLOSE LONDON UNITED KINGDOM\n",
      "1ST FLOOR, 41 ST. JAMES'PLACE LONDON UNITED KINGDOM\n",
      "MORRIS DOWN, DOWN STREET PILTDOWN REINO UNIDO DE GRAN BRETAÑA E IRLANDA DEL NORTE\n",
      "15 BAYHAM CLOSE, BEXLEY, KENT REINO UNIDO DE GRAN BRETAÑA E IRLANDA DEL NORTE\n",
      "BRIARWOOD, WESTON GREEN ROAD, THAMES DITTON REINO UNIDO DE GRAN BRETAÑA E IRLANDA DEL NORTE\n",
      "35 SUTCLIFFE ROAD LONDON INGLATERRA\n",
      "5 PRIORY ROAD LONDON UNITED KINGDOM\n",
      "FLAT 19 28-30 ROVONGTON STREET LONDON UNITED KINGDOM\n",
      "LOWER GROUP FLOOR, 118 LOTS ROAD LONDON UNITED KINGDOM\n",
      "6 GLENDOWER PLACE LONDON UNITED KINGDOM\n",
      "17 HAMPTON GROVE LANCASHIRE UNITED KINGDOM\n",
      "LONDON UNITED KINGDOM\n",
      "2 QUINTON CLOSE, KENT ENGLAND\n",
      "FLAT 11, 97 CADOGAN GARDENS LONDON UNITED KINGDOM\n",
      "4 COPPERFIELD MEWS LONDON UNITED KINGDOM\n",
      "FLAT 5 DEANWOOD HOUSE POOLE UNITED KINGDOM\n",
      "16A THE GROVE, GREENFORD MIDDX LONDON UNITED KINGDOM\n",
      "112/114 BELGRAVE ROAD LONDON UNITED KINGDOM\n",
      "KEEPERS COTTAGE, KEEPERS LANE, CODSALL WOLVERHAMPTON UNITED KINGDOM\n",
      "26 CAVALRY SQUARE LONDON UNITED KINGDOM\n",
      "42 MITCHAM PARK, MITCHAM SURREY LONDON UNITED KINGDOM\n",
      "28 CURLEW STREET LONDON UNITED KINGDOM\n",
      "OLD BARN UPPER DOWDESWELL, ANDOVERSFORD CHELTENHAM UNITED KINGDOM\n",
      "75 GRAND AVENUE, COOMBE LEA HOVE UNITED KINGDOM\n",
      "SEARL'S LANE,HOOK, HAMPSHIRE UNITED KINGDOM\n",
      "CHERRY TREE BARN, LONDON ROAD HOOK HAMPSHIRE UNITED KINGDOM\n",
      "17 BYRON CLOSE YATELEY UNITED KINGDOM\n",
      "PENGELLY MILL, LEEDSTOWN, HAYLE CORNWALL UNITED KINGDOM\n",
      "51 WIMBLEDON PARK ROAD LONDON UNITED KINGDOM\n",
      "ROOM 206, BOWDEN COURT 24,LADBROKE ROAD LONDON UNITED KINGDOM\n",
      "27 PARKWOOD ROAD LONDON UNITED KINGDOM\n",
      "16 WESTMINSTER ROAD, URMSTON MANCHESTER UNITED KINGDOM\n",
      "39 CHURCH VALE, EAST FINCHLEY LONDON UNITED KINGDOM\n",
      "18 HASTINGS PLACE PENARTH UNITED KINGDOM\n",
      "16 LAKESWOOD ROAD,PETTS WOOD ORPINGTON UNITED KINGDOM\n",
      "29 HIGH STREET EWELL UNITED KINGDOM\n",
      "THREE HORSESHOES FARM, THE QUARTER, LAMBERHURST, TUNBRIDGE WELLS KENT UNITED KINGDOM\n",
      "1 LITTLE WARREN FARM, THE WARREN CROWBOROUGH UNITED KINGDOM\n",
      "8 EVERGREEN CROSS ROAD SUNNINGDALE UNITED KINGDOM\n",
      "703 VANTAGE BUILDING, STATION APPROACH HAYNES MIDDLESEX UNITED KINGDOM\n",
      "3 QUEENS WAY, HENDON LONDON UNITED KINGDOM\n",
      "4 ST. PETERS CLOSE, GOLDHANGER MALDON ESSEX UNITED KINGDOM\n",
      "2 SAYES COURT, ADDLESTONE LONDON UNITED KINGDOM\n",
      "58 CHICHESTER CLOSE EXMOUTH UNITED KINGDOM\n",
      "FLAT NO11 , 271 BUCKTHORN HOUSE MANOR ROAD LONDON UNITED KINGDOM\n",
      "LOCKESFIELD PLACE 63 LONDON UNITED KINGDOM\n",
      "9 HUGO WAY, LOGGERHEADS MARKET DRAYTON UNITED KINGDOM\n",
      "PERCHERON DRIVE 152 WOKING UNITED KINGDOM\n",
      "CHURCH LANE, WESTON TURVILLE, AYLESBURY BUCKINGHAMSHIRE UNITED KINGDOM\n",
      "WEST DORMAN HURST, THE COMMON CRANLEIGH - SURREY UNITED KINGDOM\n",
      "7 RAVINE ROAD, POOLE DORSET UNITED KINGDOM\n",
      "33 OLD CHURCH ST LONDON UNITED KINGDOM\n",
      "19 OBERON COURT LONDON UNITED KINGDOM\n",
      "102 B CHESTERFIELD ROAD SHEFFIELD UNITED KINGDOM\n",
      "6 HIGH VIEW CLOSE, LOUGHTON UNITED KINGDOM\n",
      "SUTTON WALDRON HOUSE, SUTTON WALDRON, BLANDFORD FORUM, DORSET UNITED KINGDOM\n",
      "130 BARLBY ROAD 49 LONDON UNITED KINGDOM\n",
      "6 HIGH VIEW CLOSE, LOUGHTON ESSEX UNITED KINGDOM\n",
      "25 CLOCKHOUSE PLACE LONDON ENGLAND\n",
      "51 DOREY HOUSE, HIGH STREET BRENTFORD, MIDDLESEX UNITED KINGDOM\n",
      "209B GLOUCESTER TERRACE LONDON UNITED KINGDOM\n",
      "79 WIDDICOME WAY BRIGHTON UNITED KINGDOM\n",
      "21 VICTORIA COTTAGES RICHMOND SURREY UNITED KINGDOM\n",
      "12 HOTHAM ROAD, PUTNEY LONDON UNITED KINGDOM\n",
      "6 BRAMBLEWICK DRIVE LITTLEOVER, DERBYSHIRE DERBY UNITED KINGDOM\n",
      "270 CONISBOROUGH CRESCENT LONDON UNITED KINGDOM\n",
      "5 RICHMOND DRIVE RAYLEIGH ESSEX UNITED KINGDOM\n",
      "SUITE 232, 138 MARYLEBONE ROAD LONDON UNITED KINGDOM\n",
      "4 QUEENS DRIVE, SEVENOAKS KENT ENGLAND\n",
      "105 ENDLEBURY ROAD LONDON UNITED KINGDOM\n",
      "7 BADGERS CLOSE, WESTCLIFF-ON-SEA ESSEX UNITED KINGDOM\n",
      "6 KINGSLEY COURT, POTTERHANWORTH, LINCOLNSHIRE LINCOLN UNITED KINGDOM\n",
      "APARTMENT 21, MARY'S COURT, 4 PALAGRAVE GARDENDS LONDON UNITED KINGDOM\n",
      "CRAIGEND HOUSE SHORE ROAD, KILMUN ARGYLE PA 23 8SE UNITED KINGDOM\n",
      "CRAIGEND HOUSE, SHORE ROAD, KILMUN ARGYLE PA 23 8SE UNITED KINGDOM\n",
      "READY TOKEN HOUSE  READY TOKEN  GLOS GL7 5 SX CIRENCESTER UNITED KINGDOM\n",
      "10 SOVEREIGN FOLD, KNARESBOROUGH NORTH YORKSHIRE HG5 OWJ UNITED KINGDOM\n",
      "176, FOUNTAIN HOUSE, 16ST GEORGE WHARF, LONDON SW8, UK UNITED KINGDOM\n",
      "29 CONNAUGHT SQUARE LONDON W2 EHL UNITED KINGDOM\n",
      "53 MARTENS AVENUE, BEXLEYHEATH LONDON DA7 UNITED KINGDOM\n",
      "376 QUEENSTOWN ROAD, SW84 NW   LONDON UNITED KINGDOM\n",
      "21 OXFORD ROAD, WOODSTOCK, OXON OX 20 1UN ENGLAND\n",
      "FLAT 8, BRENDON HOUSE, 3 NOTTINGHAM PLACE LONDON UNITED KINGDOM\n",
      "FLAT 37, BALMORAL HOLLIE CANONS WA7 BRISTOL B51 SLN UNITED KINGDOM\n",
      "SUITE 100, 11 ST. JAME'S PLACE\n",
      "98 HAY LANE\n",
      "LITTLE RIVAR, RIVAR ROAD, MARLBOROUGH\n",
      "19 BERKELEY STREET LONDON WIJ 6ED UNITED KINGDOM\n",
      "3 CARLTON LODGE 37/39 LOWNDES ST LONDON SWLX LONDON UNITED KINGDOM\n",
      "25 KINTYRE ROAD, PORTSMOUTH, PO 3UH UNITED KINGDOM\n",
      "17 CHESTE SQUARE, BELGRAVIA LONDON SW1W 9H5 UNITED KINGDOM\n",
      "HOLLYCOMBE HOUSE, HOLLYCOMBE, NR LIPHOOK, HANTS ENGLAND\n",
      "17 CHESTE SQUARE, LONDON BELGRAVIA SW1W 9H5 UNITED KINGDOM\n",
      "6 TAPTON PARK MONT    SHEFFIELD UNITED KINGDOM\n",
      "57 STREET MARY ABBOTS TERRACE   LONDON UNITED KINGDOM\n",
      "41 CLONNERS FIELD, STAPELEY, CHESHIRE NANTWICH CW 5 7GU UNITED KINGDOM\n",
      "36 DARTFORD ROAD, BEYLEY, KENT DA5 2A UNITED KINGDOM\n",
      "FLAT 3, 3 HEALTH DRIVE LONDON NW3 754 UNITED KINGDOM\n",
      "43 KENTON GARDENS HARROW UNITED KINGDOM\n",
      "108, THE MAGDALEN, 278 MAGDALEN ROAD, EARLSFIELD LONDON UNITED KINGDOM\n",
      "FLAT 5 MONTROSE HOUSE, MONTROSE PLACE\n",
      "2 SOUTH AUDLEY STREET\n",
      "246 QUEENSTOWN ROAD\n",
      "4 NEW PORT PLACE, SHREWSBURY\n",
      "FLAT 7, 49 GROSVENOR SQUARE, MAYFAIR\n",
      "ALBERT COURT FLAT 8, PRINCE CONSORT ROAD\n",
      "30 HARTS GROVE, WOODFORD GREEN , ESSEX LONDON IG8 OBN ENGLAND\n",
      "30 BLANDFORD STREET, FLAT 81\n",
      "30 HARTS GROVE, WOODFORD GREEN, ESSEX LONDON IG8 OBN ENGLAND\n",
      "6 GOOWYN AVENUE, MILL HILL LONDON NW/ 3RG ENGLAND\n",
      "SHENLEY COTTAGE HIGH STREET, MILL HILL LONDON ENGLAND\n",
      "16 PELHAM STREET, KENSINGTON LONDON SW7 LONDON UNITED KINGDOM\n",
      "FLAT 123, DISCOVERA DOCK, APARTEMENT WEST, 2 SOUTH QUAY SQUARE\n",
      "5 TOWER VIEW APPARTMENT 84 ST. KATHARINES WAY\n",
      "28 GLENDARVON STREET  PUTNEY, SW 15 1JS LONDON UNITED KINGDOM\n",
      "FLAT 39, CENTURION BUILDING BLOCK A, 376 QUEENTOWN ROAD LONDON SWE 4NW UNITED KINGDOM\n",
      "GARDEN FLAT, 166A GLOUCESTER PLACE\n",
      "74 GROVE END ROAD, ST JOHN\n",
      "HAMILTON TERRACE 81, ST JOHNS WOOD\n",
      "30 HARTS GROVE, WOODFORD GREEN , ESSEX\n",
      "16 WESTFIELD PARK DRIVE, WOODFORD GREEN\n",
      "30 HARTS GROVE, WOODFORD GREEN, ESSEX\n",
      "AZALEA WALK EASTCOTE MIDDLESEX\n",
      "14 CARLOS PLACE\n",
      "THE MARLINS, 1 CLIFF DRIVE, CANFORD CLIFFS, POOLE, DORSET\n",
      "20, THE BISHOPS AVENUES LONDON N2 OAJ UNITED KINGDOM\n",
      "LEDAR HOUSE, WOOD LANE. BUCKINGSHANSHIRE IVER SLO OLA UNITED KINGDOM\n",
      "UPHILL ROAD 78, MILL HILL\n",
      "6 GOOWYN AVENUE, MILL HILL\n",
      "COLONSO DRIVE 51, MILL HILL\n",
      "SHENLEY COTTAGE HIGH STREET, MILL HILL\n",
      "13 HANCOCK COURT - STUDIO WAY - BOREHAMWOOD - HERTS\n",
      "66 HARROWES MEADE- EDGWARE - MIDDX\n",
      "CHARTLEY AVENUE 46, STANMORE MIDDLESEX UNITED KINGDOM\n",
      "CHARTLEY AVENEU 46, STANMORE MIDDLESEX UNITED KINGDOM\n",
      "64, BRINDLEY CLOSE, ALPERTON\n",
      "14, GIRONDE ROAD - FLAT A\n",
      "29 PHILLIMORE GARDENS\n",
      "72 NOTTINGHAM TERRACE REGGENT'S PARK\n",
      "FLAT 12, 20-21 HYDE PARK SQUARE\n",
      "3 TOR GARDENS\n",
      "13 WOODSFORD SQUARE\n",
      "246 QUEENSTOWN ROAD LONDON SWS 4LD UNITED KINGDOM\n",
      "THE OLD RECTORY, MIDDLE CHINNOCK, CREWKERNE UNITED KINGDOM\n",
      "9 STORMONT ROAD, HIGHGATE UNITED KINGDOM\n",
      "12 SHERWOOD ROAD LONDON UNITED KINGDOM\n",
      "3 AARON COURT SOUTHPORT PR 9 LS UNITED KINGDOM\n",
      "79 HIGH STREET, SAFFRON WALDEN ESSEX UNITED KINGDOM\n",
      "66 SHELDON AVENUE LONDON UNITED KINGDOM\n",
      "23 RIVERSIDE DRIVE ESHER UNITED KINGDOM\n",
      "BRACKHILL PARK LANE, HALE WA 159J5 UNITED KINGDOM\n",
      "THE LANCASTERS, APARTMENT 7, LANCASTER GATE 81 LONDON UNITED KINGDOM\n",
      "11, COMPTON WAY, SURREY FRANHAM GU10 10Y UNITED KINGDOM\n",
      "ZOAC BANK BROOKLANE ALDERLEY EDGE CHESHIRE UNITED KINGDOM\n",
      "105 DALE ROAD, BUXTON BERBYSHIRE LONDON SKP7 6PD UNITED KINGDOM\n",
      "GLEBE HOUSE CARLET WAY- BARNET HERTFORSHIRE UNITED KINGDOM\n",
      "BRACKENWOOD, NORREL DRIVE, EAST HORSLEY, LEATHERHEAD, SURREY UNITED KINGDOM\n",
      "FLAT 2,4 BRYANSTON SQUARE LONDON W1H2 DH UNITED KINGDOM\n",
      "30 DUKE OF YORK SQUARE, FLAT 40, FREDERIK COURT\n",
      "22B, OPPER ADDISAN GARDENS, 114 8AP LONDON ENGLAND\n",
      "36 ROLAND GARDENS SW 7\n",
      "COLLEGE DRIVE 30A, RUISHIP, MIDDLESEX\n",
      "1 LAWRENCE DRIVE, CANFORD CLIFFS, DORSET\n",
      "5 CANFORD CLIFFS AVE, POOLE\n",
      "186A LONDON ROAD, GREAT NOTLEY, BAINTREE LONDON CM77 UNITED KINGDOM\n",
      "8, WOOLTON PARK\n",
      "318 DRUMMOND ROAD - SKEGNESS\n",
      "5 SALTERNS POINT, 36 SALTERNS WAY, LILIPUT\n",
      "BELSIZE PARK GARDENS\n",
      "CHESSUNT - AUSTELL GARDENS MILL HILL\n",
      "OAKEROFT, MARIGOLD LANE, INGATESTONE, STOCK, ESSEX\n",
      "55 ALBERT COURT- PRINCE CONSORT ROAD\n",
      "9 LUDLOW STREET, ASHEBROOKE\n",
      "20C GIREVILLE PLACE, LONDON NW& 5JH UNITED KINGDOM\n",
      "26 SEYMOUR WALK\n",
      "16 LINKS ROAD, EPSON, SURREY\n",
      "CAMBRIDGE STREET 5, EASTLEIGH\n",
      "BASEMENT FLAT, COTHAM ROAD SOUTH 20\n",
      "PARSONS GROVE DENBY VILLAGE RIPLEY, DERBYSHIRE\n",
      "91 HAZELWOOD ROAD DUFFIELD BELPER, DERBYSHIRE\n",
      "LITTLE MANOR, THE RIDGEWAY, RODLETT, HERTS\n",
      "THE GATEHOUSE, 27A LECHTMORE ROAD, RADLETT, HERTFORDSHIRE\n",
      "LITTLE COLSTROPE LANE, HAMBLEDEN, HENLEY-ON-THAMES, OXON RG9 UNITED KINGDOM\n",
      "WHITE LODGE, WELLINGTON AVENUE UNITED KINGDOM\n",
      "347 WESTMOUNT ROAD LONDON SE9 INS UNITED KINGDOM\n",
      "FLAT C 233 HOLMESDALE ROAD LONDON AMANAR LIMITED - NO.1892661 UNITED KINGDOM\n",
      "12 ROWAN LODGE, CHANTRY SQUARE\n",
      "FLAT 69, 3 WHITEHALL COURT LONDON SWIA2 UNITED KINGDOM\n",
      "65 CHESTER SQUARE LONDON UNITED KINGDOM\n",
      "21-22 ENNISMORE GARDENS   LONDON UNITED KINGDOM\n",
      "1 FARLEY COURT CHUCH ROAD, FARLEY HILL, READING BERKSHIRE READING RGT 1TT UNITED KINGDOM\n",
      "1 FARLEY COURT CHURCH ROAD, FARLEY HILL, READING BERKSHIRE READING RGT 1TT UNITED KINGDOM\n",
      "ELDER COTTAGE, BOX STROUD   GLOUCESTER-SHIRE UNITED KINGDOM\n",
      "12 BISHOPS ROAD, UNITED KINGDOM\n",
      "FLAT 3, 70 KENSINGTON GARDENS SQUARE\n",
      "8 NEWMAN'S WAY, BARNET\n",
      "THE OLD RECTORY, HARPSDEN BOTTOM, HARPSDEN\n",
      "FINBOROUGH RD - ONEHOUSE   UNITED KINGDOM\n",
      "13 PALACE GARDENS TERRACE, KENSINGTON\n",
      "45 CORFTON ROAD\n",
      "FLAT 3, 37 BELGRAVE GARDENS\n",
      "FLAT 8 MIDSUMMER COURT, CRANMER ROAD\n",
      "14 CARLOS PLACE, LONDON WIK 2 EP UNITED KINGDOM\n",
      "UNITED KINGDOM\n",
      "29 WENTWORTH ROAD, GOLDERS ROAD LONDON NW11 ORT UNITED KINGDOM\n",
      "5 TOWER VIEW APPARTMENT 84 ST. KATHARINES WAY LONDON ENGLAND\n",
      "STROODS, HERON'S GHYLL,UCKFIELD EAST SUSSEX TN 22 4DG LONDON UNITED KINGDOM\n",
      "62 CHANDLERY HOUSE, 40 GOWERS WALK\n",
      "62 CHANDLERY HOUSE, 40 GOWER WALK\n",
      "63 CHANDLERY HOUSE, 40 GOWERS WALK\n",
      "23 MULBERRY WALK LONDON SW3 6 DZ UNITED KINGDOM\n",
      "40 GREGORY AVENUE, PONDWELL, RYDE ISLE OF WIGHT UNITED KINGDOM\n",
      "97 THE CROSSWAY FAREHAM UNITED KINGDOM\n",
      "FIRST FLOOR FLAT, 14 SYDNEY STREET   LONDON UNITED KINGDOM\n",
      "106 MOSTYN ROAD LONDON UNITED KINGDOM\n",
      "5D EAST MILL, STANLEY MILLS, STANLEY PERTHSHIRE SCOTLAND\n",
      "NENTHORNE, RATHMOLYON, CO MEATH RATHMOLYON UNITED KINGDOM\n",
      "3 RICHMOND DRIVE WOLVERHAMPTON UNITED KINGDOM\n",
      "ORCHARD HOUSE, HIGH STREET, KINGSTON BLOUNT OXFORDSHIRE WATLINGTON UNITED KINGDOM\n",
      "25 ROMNEY GRANGE, WATERHEAD AMBLESIDE LA22 OHD UNITED KINGDOM\n",
      "2A TONGDEAN ROAD, HOVE BN3 60B UNITED KINGDOM\n",
      "BLACKHURST FARM, COWBEECH ROAD, RUSHLAKE GREEN UNITED KINGDOM\n",
      "AV. SANT ANTONI 66,8-1 EDIFICO MONTISOL, LA MASSANA UNITED KINGDOM\n",
      "AGENT/ POSTAL ADRESS-64 BAKER STREET, LONDON UNITED KINGDOM\n",
      "94 ABELL HOUSE, 31 JOHN ISLIP STREET LONDON SWP 1P 4FE UNITED KINGDOM\n",
      "21 HANS PLACE LONDON SW1 OEP UNITED KINGDOM\n",
      "62 CHANDLERY HOUSE, 40 GOWERS WALK LONDON E188H UNITED KINGDOM\n",
      "24B WILLINGTON GARDENS LONDON SE 7PH UNITED KINGDOM\n",
      "9 BEAUCLERC ROAD, LONDON W6 ONR UNITED KINGDOM\n",
      "SQUIRREL HILL, LITTLEWORTH ROAD, SEALE GU10 IJN UNITED KINGDOM\n",
      "15 MALLORD ST. LONDON ENGLAND\n",
      "33 ESSEX PARK LONDON N3IND ENGLAND\n",
      "26 SAILSBURY HOUSE, BESSBOROUGH ARDENS 3, DRUMMON GATE LONDON ENGLAND\n",
      "12 NEW FETTER LANE, LONDON ECA 1JP UNITED KIGNDOM\n",
      "28A BARING ROAD, BEACONSFIELD, BUCKINGHAMSHIRE\n",
      "51D OSSINGTON STREET, PADDINGTON\n",
      "9 ALEXANDRA ROAD, CLIFTON\n",
      "1 LARKSPUR CLOSE, HAMILTON\n",
      "6 UPPER PARK ROAD, LONDON UNITED KINGDOM\n",
      "HOMFIELD HOUSE, PINELANDS ROAD, CHILWORTH SOUTHAMPTON ENGLAND\n",
      "8 FITZJAMES AVENUE LONDON W14 ORP UNITED KINGDOM\n",
      "8 BROOWIDE ROAD, GOLDEN GREEN LONDON UNITED KINGDOM\n",
      "APT 21, 5TH FLOOR, 21 SHERINGHAM COURT, QUEENSMEAD. ST JOHN'S WOOD PARK\n",
      "SYMONIQUE HOUSE, WARREN RISE, NEW MALDEN\n",
      "6 BEAR STREET, HAY-ON-WYE\n",
      "LR 204-17-2 MOBOROMOKO ROAD UNITED KINGDOM\n",
      "CROCKETTS MANOR, BEAUDESERT PART, HENLEY-IN-ARDEN\n",
      "21 DUNRAVEN STREET, OFF PARK LANE, FLAT ONE\n",
      "29 WENTWORTH ROAD, GOLDERS ROAD, LONDON NW11 ORT UNITED KINGDOM\n",
      "80 WINNINTONG ROAD\n",
      "14 PORTMAN CLOSE\n",
      "MANOR HOUSE, VILLAGE RD, DENHAM UXBRIDGE UNITED KINGDOM\n",
      "FLAT 11, 48 GROSVENOR SQUARE, LONDON UNITED KINGDOM\n",
      "APARTMENT 18,10 MONTROSE PLACE LONDON SWIX 7DU UNITED KINGDOM\n",
      "705 WESTMINSTER GREEN APTS. 8 DEAN RYLE STREET LONDON UNITED KINGDOM\n",
      "FLAT 3, 110-114 GRAFTON ROAD LONDON UNITED KINGDOM\n",
      "26 HOLNE CHASE LONDRES UNITED KINGDOM\n",
      "4 HOLLAND, VILLAS ROAD, W14 LONDON ENGLAND\n",
      "14, HOLLAND VILLAS, APT,8 LONDON UNITED KINGDOM\n",
      "FAIRHILL RIDING LANE, TN11 80L HILDENBOROUGH TONBRIDGE UNITED KINGDOM\n",
      "285-56 GLOUCESTER ROAD LONDON ENGLAND\n",
      "10, KINMOND DRIVE PERTH PH2 OTG UNITED KINGDOM\n",
      "15 WOODEND DRIVE BERKSHIRE ASCOT UNITED KINGDOM\n",
      "LAMONT ROAD, WEST BROMPTON LONDON SW10 OHP UNITED KINGDOM\n",
      "FLAT 24, EVELYN MANSIONS, CARLISLE PLACE LONDON SW1P INH UNITED KINGDOM\n",
      "FLAT 3,37 CHESHAM PLACE, LONDON UNITED KINGDOM\n",
      "FLAT 2, 2E EVELYN GARDENS, LONDON UNITED KINGDOM\n",
      "166 ASHLEY GARDENS, EMERY HILL STREET\n",
      "59 ALDERTON HILL\n",
      "407 MILLINERS HOUSE  EASTFIELDS AVENUE\n",
      "FLAT E, 44 LENNOX GARDENS\n",
      "THAME PARK HOUSE, THAME PARK ROAD, THAME, OXFORDSHIRE\n",
      "ALDERWOOD, BAKEHAM LANE, ENGLEFIELD GREEN, EGHAM SURREY\n",
      "30 WILTON PLACE\n",
      "BEDWIN HOUSE, BEDWINS LANE, MAIDENHEAD\n",
      "16 PELHAM STREET, SOUTH KENSINGTON\n",
      "17 TOFTENHAM STREET\n",
      "WILLARDS FARM, THE COMMON DUNSFOLD\n",
      "13 HAMPSTEAD HILL GARDENS\n",
      "25 ST  PETERS SQUARE\n",
      "19, PENTHOUSE NORTH, 12A-I2J ENNISMORE GARDENS, LONDON SW7 IAA UNITED KINGDOM\n"
     ]
    }
   ],
   "source": [
    "for i in addresses_uk[addresses_uk['PostCode'].isna()]['address']:\n",
    "    print(i)"
   ]
  },
  {
   "cell_type": "code",
   "execution_count": null,
   "id": "445fc390-0034-46e4-b431-bdcc52d02157",
   "metadata": {},
   "outputs": [],
   "source": []
  }
 ],
 "metadata": {
  "kernelspec": {
   "display_name": "Python 3",
   "language": "python",
   "name": "python3"
  },
  "language_info": {
   "codemirror_mode": {
    "name": "ipython",
    "version": 3
   },
   "file_extension": ".py",
   "mimetype": "text/x-python",
   "name": "python",
   "nbconvert_exporter": "python",
   "pygments_lexer": "ipython3",
   "version": "3.8.8"
  }
 },
 "nbformat": 4,
 "nbformat_minor": 5
}
