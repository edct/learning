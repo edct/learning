{
 "cells": [
  {
   "cell_type": "markdown",
   "id": "8be18846",
   "metadata": {},
   "source": [
    "## Create webapp to show a neural network"
   ]
  },
  {
   "cell_type": "code",
   "execution_count": null,
   "id": "4d65179d",
   "metadata": {},
   "outputs": [],
   "source": [
    "%matplotlib inline\n",
    "\n",
    "import tensorflow as tf\n",
    "import numpy as np\n",
    "import matplotlib.pyplot as plt"
   ]
  },
  {
   "cell_type": "markdown",
   "id": "c651d80a",
   "metadata": {},
   "source": [
    "## neural network + data processing"
   ]
  },
  {
   "cell_type": "code",
   "execution_count": null,
   "id": "d0973ab7",
   "metadata": {},
   "outputs": [],
   "source": [
    "(x_train, y_train), (x_test, y_test) = tf.keras.datasets.mnist.load_data()"
   ]
  },
  {
   "cell_type": "code",
   "execution_count": null,
   "id": "25e86d2f",
   "metadata": {},
   "outputs": [],
   "source": [
    "plt.figure(figsize = (10, 10))\n",
    "for i in range(0, 16):\n",
    "    plt.subplot(4, 4, i+1)\n",
    "    plt.imshow(x_train[i], cmap='binary')\n",
    "    plt.xlabel(str(y_train[i]))\n",
    "    plt.xticks([])\n",
    "    plt.yticks([])\n",
    "plt.show()"
   ]
  },
  {
   "cell_type": "code",
   "execution_count": null,
   "id": "fdcce5c3",
   "metadata": {},
   "outputs": [],
   "source": [
    "x_train = np.reshape(x_train, (60000, 28*28))\n",
    "x_test = np.reshape(x_test, (10000, 28*28))\n",
    "x_train = x_train/255.\n",
    "x_test = x_test/255."
   ]
  },
  {
   "cell_type": "code",
   "execution_count": null,
   "id": "fda2fc6a",
   "metadata": {},
   "outputs": [],
   "source": [
    "model = tf.keras.models.Sequential([\n",
    "    tf.keras.layers.Dense(32, activation = 'sigmoid', input_shape = (784,)),\n",
    "    tf.keras.layers.Dense(32, activation = 'sigmoid'),\n",
    "    tf.keras.layers.Dense(10, activation = 'softmax')\n",
    "])\n",
    "model.compile(\n",
    "    loss = 'sparse_categorical_crossentropy',\n",
    "    optimizer = 'adam',\n",
    "    metrics = ['accuracy'])"
   ]
  },
  {
   "cell_type": "code",
   "execution_count": null,
   "id": "a131c467",
   "metadata": {},
   "outputs": [],
   "source": [
    "n = model.fit(\n",
    "x_train, y_train, validation_data = (x_test, y_test),\n",
    "    epochs=20, batch_size = 2048, verbose = 2)"
   ]
  },
  {
   "cell_type": "code",
   "execution_count": null,
   "id": "c47b8a00",
   "metadata": {},
   "outputs": [],
   "source": [
    "model.save('model.h5')"
   ]
  },
  {
   "cell_type": "markdown",
   "id": "5c1e71b4",
   "metadata": {},
   "source": [
    "## creating a server to do it all for us....locally."
   ]
  },
  {
   "cell_type": "code",
   "execution_count": null,
   "id": "117d3127",
   "metadata": {},
   "outputs": [],
   "source": [
    "%%writefile ml_server.py\n",
    "\n",
    "import json\n",
    "import tensorflow as tf\n",
    "import numpy as np\n",
    "import random\n",
    "from flask import Flask, request\n",
    "\n",
    "app = Flask(__name__)\n",
    "model = tf.keras.models.load_model('model.h5')\n",
    "feature_model = tf.keras.models.Model(\n",
    "    model.inputs, [layer.output for layer in model.layers])\n",
    "\n",
    "_, (x_test, _) = tf.keras.datasets.mnist.load_data()\n",
    "x_test = x_test/255.\n",
    "\n",
    "def get_prediction():\n",
    "    index = np.random.choice(x_test.shape[0])\n",
    "    image = x_test[index, :, :]\n",
    "    image_arr = np.reshape(image, (1,28*28))\n",
    "    return feature_model.predict(image_arr), image\n",
    "\n",
    "\n",
    "\n",
    "@app.route('/', methods = ['GET', 'POST'])\n",
    "\n",
    "def index():\n",
    "    if request.method == 'POST':\n",
    "        preds, image = get_prediction()\n",
    "        final_preds = [p.tolist() for p in preds]\n",
    "        return json.dumps({\n",
    "            'prediction':final_preds,\n",
    "            'image':image.tolist()\n",
    "        })\n",
    "    return 'go fuck yourself'\n",
    "\n",
    "if __name__ == '__main__':\n",
    "    app.run()"
   ]
  },
  {
   "cell_type": "markdown",
   "id": "08cee365",
   "metadata": {},
   "source": [
    "## create a streamlit file so that we can run a webapp"
   ]
  },
  {
   "cell_type": "code",
   "execution_count": null,
   "id": "743d48a0",
   "metadata": {},
   "outputs": [],
   "source": [
    "%%writefile app.py\n",
    "\n",
    "import streamlit as st\n",
    "import json\n",
    "import requests\n",
    "import matplotlib.pyplot as plt\n",
    "import numpy as np\n",
    "\n",
    "URINAL = 'http://127.0.0.1:5000'\n",
    "st.title('Neural Net Visualisation')\n",
    "st.sidebar.markdown('## Input Image')\n",
    "if st.button('Get random prediction'):\n",
    "    response = requests.post(URINAL, data ={})\n",
    "    response = json.loads(response.text)\n",
    "    preds= response.get('prediction')\n",
    "    image = response.get('image')\n",
    "    image = np.reshape(image, (28, 28))\n",
    "    st.sidebar.image(image, width=150)\n",
    "    for layer, p in enumerate(preds):\n",
    "        numbers = np.squeeze(np.array(p))\n",
    "        plt.figure(figsize=(32, 4))\n",
    "        if layer == 2:\n",
    "            row=1\n",
    "            col=10\n",
    "        else:\n",
    "            row=2\n",
    "            col=16\n",
    "        for i, number in enumerate(numbers):\n",
    "            plt.subplot(row, col, i+1)\n",
    "            plt.imshow(number * np.ones((8, 8, 3)).astype('float32'))\n",
    "            plt.xticks([])\n",
    "            plt.yticks([])\n",
    "            if layer == 2:\n",
    "                plt.xlabel(str(i), fontsize=40)\n",
    "        plt.subplots_adjust(wspace=0.05, hspace=0.05)\n",
    "        plt.tight_layout()\n",
    "        st.text('Layer {}'.format(i+1))\n",
    "        st.pyplot(\n",
    "        )"
   ]
  }
 ],
 "metadata": {
  "kernelspec": {
   "display_name": "Python 3",
   "language": "python",
   "name": "python3"
  },
  "language_info": {
   "codemirror_mode": {
    "name": "ipython",
    "version": 3
   },
   "file_extension": ".py",
   "mimetype": "text/x-python",
   "name": "python",
   "nbconvert_exporter": "python",
   "pygments_lexer": "ipython3",
   "version": "3.8.8"
  }
 },
 "nbformat": 4,
 "nbformat_minor": 5
}
